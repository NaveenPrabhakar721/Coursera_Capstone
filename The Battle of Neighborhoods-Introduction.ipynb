{
 "cells": [
  {
   "cell_type": "markdown",
   "metadata": {},
   "source": [
    "## Capstone Project - The Battle of Neighbourhoods"
   ]
  },
  {
   "cell_type": "markdown",
   "metadata": {},
   "source": [
    "### Introduction / Business Problem"
   ]
  },
  {
   "cell_type": "markdown",
   "metadata": {},
   "source": [
    "<h6> \"Which locality in the United States can be the best place to start a Gaming Arcade among all the cities?\" </h6>"
   ]
  },
  {
   "cell_type": "markdown",
   "metadata": {},
   "source": [
    "###### New Project arise, client is interested in starting a gaming arcade in the best locality of all the cities in United states. He defines a best locatlity based on the following constraints or parameters:\n",
    "\n",
    "<ul>\n",
    "  <li>Population density of a locality</li>\n",
    "  <li>Per Capital income</li>\n",
    "  <li>Population of each location</li>\n",
    "  <li>Venues in each locality</li> \n",
    "</ul>    \n"
   ]
  },
  {
   "cell_type": "markdown",
   "metadata": {},
   "source": [
    "###### The category of the venues that he's interested in are,\n",
    "\n",
    "<ul>\n",
    "  <li>Arts and Entertainment</li>\n",
    "  <li>Shops & Service</li>\n",
    "  <li>College and University</li>\n",
    "  <li>Event</li> \n",
    "  <li>Food</li> \n",
    "  <li>Nightife Spot</li> \n",
    "  <li>Outdoors & Recreation</li> \n",
    "  <li>Professional & Other places</li> \n",
    "  <li>Residence</li> \n",
    "  <li>Travel & Transport</li>   \n",
    "</ul>   "
   ]
  }
 ],
 "metadata": {
  "kernelspec": {
   "display_name": "Python 3",
   "language": "python",
   "name": "python3"
  },
  "language_info": {
   "codemirror_mode": {
    "name": "ipython",
    "version": 3
   },
   "file_extension": ".py",
   "mimetype": "text/x-python",
   "name": "python",
   "nbconvert_exporter": "python",
   "pygments_lexer": "ipython3",
   "version": "3.8.3"
  }
 },
 "nbformat": 4,
 "nbformat_minor": 4
}
